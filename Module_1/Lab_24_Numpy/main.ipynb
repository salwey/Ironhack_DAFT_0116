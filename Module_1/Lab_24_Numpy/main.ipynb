{
 "cells": [
  {
   "cell_type": "markdown",
   "metadata": {},
   "source": [
    "# Intrduction to NumPy\n",
    "\n",
    "\n",
    "#### 1. Import NumPy under the name np."
   ]
  },
  {
   "cell_type": "code",
   "execution_count": 1,
   "metadata": {},
   "outputs": [],
   "source": [
    "# your code here\n",
    "import numpy as np"
   ]
  },
  {
   "cell_type": "markdown",
   "metadata": {},
   "source": [
    "#### 2. Print your NumPy version."
   ]
  },
  {
   "cell_type": "code",
   "execution_count": 5,
   "metadata": {},
   "outputs": [
    {
     "data": {
      "text/plain": [
       "'1.21.2'"
      ]
     },
     "execution_count": 5,
     "metadata": {},
     "output_type": "execute_result"
    }
   ],
   "source": [
    "# your code here#\n",
    "np.version.version"
   ]
  },
  {
   "cell_type": "markdown",
   "metadata": {},
   "source": [
    "#### 3. Generate a 2x3x5 3-dimensional array with random values. Assign the array to variable *a*.\n",
    "**Challenge**: there are at least three easy ways that use numpy to generate random arrays. How many ways can you find?"
   ]
  },
  {
   "cell_type": "code",
   "execution_count": 6,
   "metadata": {},
   "outputs": [],
   "source": [
    "# Method 1\n",
    "a1 = np.random.random((2, 3, 5))"
   ]
  },
  {
   "cell_type": "code",
   "execution_count": 9,
   "metadata": {},
   "outputs": [],
   "source": [
    "# Method 2\n",
    "a2 = np.random.randint(0,100, size=(2,3,5))"
   ]
  },
  {
   "cell_type": "code",
   "execution_count": 10,
   "metadata": {},
   "outputs": [],
   "source": [
    "# Method 3\n",
    "a3 = np.random.sample((2,3,5))"
   ]
  },
  {
   "cell_type": "markdown",
   "metadata": {},
   "source": [
    "#### 4. Print *a*.\n"
   ]
  },
  {
   "cell_type": "code",
   "execution_count": 7,
   "metadata": {},
   "outputs": [
    {
     "data": {
      "text/plain": [
       "array([[[0.29288253, 0.77786705, 0.21958597, 0.07366453, 0.04270916],\n",
       "        [0.68828857, 0.89329992, 0.3905541 , 0.96232776, 0.46508809],\n",
       "        [0.78578086, 0.14092246, 0.25906693, 0.42232525, 0.66938239]],\n",
       "\n",
       "       [[0.64583869, 0.42453089, 0.21782351, 0.52039784, 0.13504198],\n",
       "        [0.91378396, 0.87615076, 0.14180743, 0.46988674, 0.38645992],\n",
       "        [0.43110526, 0.22057872, 0.61423703, 0.07159521, 0.33900524]]])"
      ]
     },
     "execution_count": 7,
     "metadata": {},
     "output_type": "execute_result"
    }
   ],
   "source": [
    "# your code here\n",
    "a1"
   ]
  },
  {
   "cell_type": "markdown",
   "metadata": {},
   "source": [
    "#### 5. Create a 5x2x3 3-dimensional array with all values equaling 1. Assign the array to variable *b*."
   ]
  },
  {
   "cell_type": "code",
   "execution_count": 27,
   "metadata": {},
   "outputs": [],
   "source": [
    "# your code here\n",
    "b=np.ones((5,3,2))"
   ]
  },
  {
   "cell_type": "markdown",
   "metadata": {},
   "source": [
    "#### 6. Print *b*.\n"
   ]
  },
  {
   "cell_type": "code",
   "execution_count": 28,
   "metadata": {},
   "outputs": [
    {
     "data": {
      "text/plain": [
       "array([[[1., 1.],\n",
       "        [1., 1.],\n",
       "        [1., 1.]],\n",
       "\n",
       "       [[1., 1.],\n",
       "        [1., 1.],\n",
       "        [1., 1.]],\n",
       "\n",
       "       [[1., 1.],\n",
       "        [1., 1.],\n",
       "        [1., 1.]],\n",
       "\n",
       "       [[1., 1.],\n",
       "        [1., 1.],\n",
       "        [1., 1.]],\n",
       "\n",
       "       [[1., 1.],\n",
       "        [1., 1.],\n",
       "        [1., 1.]]])"
      ]
     },
     "execution_count": 28,
     "metadata": {},
     "output_type": "execute_result"
    }
   ],
   "source": [
    "# your code here\n",
    "b"
   ]
  },
  {
   "cell_type": "markdown",
   "metadata": {},
   "source": [
    "#### 7. Do *a* and *b* have the same size? How do you prove that in Python code?"
   ]
  },
  {
   "cell_type": "code",
   "execution_count": 29,
   "metadata": {},
   "outputs": [
    {
     "name": "stdout",
     "output_type": "stream",
     "text": [
      "True\n"
     ]
    }
   ],
   "source": [
    "# your code here\n",
    "print(a1.size == b.size)"
   ]
  },
  {
   "cell_type": "markdown",
   "metadata": {},
   "source": [
    "#### 8. Are you able to add *a* and *b*? Why or why not?\n"
   ]
  },
  {
   "cell_type": "code",
   "execution_count": 30,
   "metadata": {},
   "outputs": [
    {
     "ename": "ValueError",
     "evalue": "operands could not be broadcast together with shapes (2,3,5) (5,3,2) ",
     "output_type": "error",
     "traceback": [
      "\u001b[1;31m---------------------------------------------------------------------------\u001b[0m",
      "\u001b[1;31mValueError\u001b[0m                                Traceback (most recent call last)",
      "\u001b[1;32m~\\AppData\\Local\\Temp/ipykernel_2344/562160120.py\u001b[0m in \u001b[0;36m<module>\u001b[1;34m\u001b[0m\n\u001b[0;32m      1\u001b[0m \u001b[1;31m# your answer here\u001b[0m\u001b[1;33m\u001b[0m\u001b[1;33m\u001b[0m\u001b[1;33m\u001b[0m\u001b[0m\n\u001b[1;32m----> 2\u001b[1;33m \u001b[0mc\u001b[0m\u001b[1;33m=\u001b[0m\u001b[0ma1\u001b[0m\u001b[1;33m+\u001b[0m\u001b[0mb\u001b[0m\u001b[1;33m\u001b[0m\u001b[1;33m\u001b[0m\u001b[0m\n\u001b[0m",
      "\u001b[1;31mValueError\u001b[0m: operands could not be broadcast together with shapes (2,3,5) (5,3,2) "
     ]
    }
   ],
   "source": [
    "# your answer here\n",
    "c=a1+b"
   ]
  },
  {
   "cell_type": "markdown",
   "metadata": {},
   "source": [
    "#### 9. Transpose *b* so that it has the same structure of *a* (i.e. become a 2x3x5 array). Assign the transposed array to variable *c*."
   ]
  },
  {
   "cell_type": "code",
   "execution_count": 31,
   "metadata": {},
   "outputs": [],
   "source": [
    "# your code here\n",
    "c = b.T"
   ]
  },
  {
   "cell_type": "markdown",
   "metadata": {},
   "source": [
    "#### 10. Try to add *a* and *c*. Now it should work. Assign the sum to variable *d*. But why does it work now?"
   ]
  },
  {
   "cell_type": "code",
   "execution_count": 33,
   "metadata": {},
   "outputs": [],
   "source": [
    "# your code/answer here\n",
    "d = a1 + c"
   ]
  },
  {
   "cell_type": "markdown",
   "metadata": {},
   "source": [
    "#### 11. Print *a* and *d*. Notice the difference and relation of the two array in terms of the values? Explain."
   ]
  },
  {
   "cell_type": "code",
   "execution_count": 36,
   "metadata": {},
   "outputs": [
    {
     "name": "stdout",
     "output_type": "stream",
     "text": [
      "[[[0.29288253 0.77786705 0.21958597 0.07366453 0.04270916]\n",
      "  [0.68828857 0.89329992 0.3905541  0.96232776 0.46508809]\n",
      "  [0.78578086 0.14092246 0.25906693 0.42232525 0.66938239]]\n",
      "\n",
      " [[0.64583869 0.42453089 0.21782351 0.52039784 0.13504198]\n",
      "  [0.91378396 0.87615076 0.14180743 0.46988674 0.38645992]\n",
      "  [0.43110526 0.22057872 0.61423703 0.07159521 0.33900524]]]\n",
      "[[[1.29288253 1.77786705 1.21958597 1.07366453 1.04270916]\n",
      "  [1.68828857 1.89329992 1.3905541  1.96232776 1.46508809]\n",
      "  [1.78578086 1.14092246 1.25906693 1.42232525 1.66938239]]\n",
      "\n",
      " [[1.64583869 1.42453089 1.21782351 1.52039784 1.13504198]\n",
      "  [1.91378396 1.87615076 1.14180743 1.46988674 1.38645992]\n",
      "  [1.43110526 1.22057872 1.61423703 1.07159521 1.33900524]]]\n"
     ]
    }
   ],
   "source": [
    "print(a1)\n",
    "print(d)"
   ]
  },
  {
   "cell_type": "markdown",
   "metadata": {},
   "source": [
    "#### 12. Multiply *a* and *c*. Assign the result to *e*."
   ]
  },
  {
   "cell_type": "code",
   "execution_count": 37,
   "metadata": {},
   "outputs": [],
   "source": [
    "# your code here\n",
    "e = a1 * c"
   ]
  },
  {
   "cell_type": "markdown",
   "metadata": {},
   "source": [
    "#### 13. Does *e* equal to *a*? Why or why not?\n"
   ]
  },
  {
   "cell_type": "code",
   "execution_count": 38,
   "metadata": {},
   "outputs": [
    {
     "name": "stdout",
     "output_type": "stream",
     "text": [
      "[[[0.29288253 0.77786705 0.21958597 0.07366453 0.04270916]\n",
      "  [0.68828857 0.89329992 0.3905541  0.96232776 0.46508809]\n",
      "  [0.78578086 0.14092246 0.25906693 0.42232525 0.66938239]]\n",
      "\n",
      " [[0.64583869 0.42453089 0.21782351 0.52039784 0.13504198]\n",
      "  [0.91378396 0.87615076 0.14180743 0.46988674 0.38645992]\n",
      "  [0.43110526 0.22057872 0.61423703 0.07159521 0.33900524]]]\n",
      "[[[0.29288253 0.77786705 0.21958597 0.07366453 0.04270916]\n",
      "  [0.68828857 0.89329992 0.3905541  0.96232776 0.46508809]\n",
      "  [0.78578086 0.14092246 0.25906693 0.42232525 0.66938239]]\n",
      "\n",
      " [[0.64583869 0.42453089 0.21782351 0.52039784 0.13504198]\n",
      "  [0.91378396 0.87615076 0.14180743 0.46988674 0.38645992]\n",
      "  [0.43110526 0.22057872 0.61423703 0.07159521 0.33900524]]]\n"
     ]
    }
   ],
   "source": [
    "# your code/answer here\n",
    "print(a1)\n",
    "print(e)"
   ]
  },
  {
   "cell_type": "markdown",
   "metadata": {},
   "source": [
    "#### 14. Identify the max, min, and mean values in *d*. Assign those values to variables *d_max*, *d_min* and *d_mean*."
   ]
  },
  {
   "cell_type": "code",
   "execution_count": 40,
   "metadata": {},
   "outputs": [],
   "source": [
    "# your code here\n",
    "d_max = d.max()\n",
    "d_min = d.min()\n",
    "d_mean = d.mean()"
   ]
  },
  {
   "cell_type": "markdown",
   "metadata": {},
   "source": [
    "#### 15. Now we want to label the values in *d*. First create an empty array *f* with the same shape (i.e. 2x3x5) as *d* using `np.empty`.\n"
   ]
  },
  {
   "cell_type": "code",
   "execution_count": 49,
   "metadata": {},
   "outputs": [],
   "source": [
    "# your code here\n",
    "f = np.empty((2,3,5))"
   ]
  },
  {
   "cell_type": "markdown",
   "metadata": {},
   "source": [
    "#### 16. Populate the values in *f*. \n",
    "\n",
    "For each value in *d*, if it's larger than *d_min* but smaller than *d_mean*, assign 25 to the corresponding value in *f*. If a value in *d* is larger than *d_mean* but smaller than *d_max*, assign 75 to the corresponding value in *f*. If a value equals to *d_mean*, assign 50 to the corresponding value in *f*. Assign 0 to the corresponding value(s) in *f* for *d_min* in *d*. Assign 100 to the corresponding value(s) in *f* for *d_max* in *d*. In the end, f should have only the following values: 0, 25, 50, 75, and 100.\n",
    "\n",
    "**Note**: you don't have to use Numpy in this question."
   ]
  },
  {
   "cell_type": "code",
   "execution_count": 52,
   "metadata": {},
   "outputs": [
    {
     "data": {
      "text/plain": [
       "array([[[ 25,  75,  25,  25,   0],\n",
       "        [ 75,  75,  25, 100,  75],\n",
       "        [ 75,  25,  25,  25,  75]],\n",
       "\n",
       "       [[ 75,  25,  25,  75,  25],\n",
       "        [ 75,  75,  25,  75,  25],\n",
       "        [ 25,  25,  75,  25,  25]]])"
      ]
     },
     "execution_count": 52,
     "metadata": {},
     "output_type": "execute_result"
    }
   ],
   "source": [
    "# your code here\n",
    "def q16 (x, x_max, x_min, x_mean):\n",
    "    return_value = x\n",
    "    if x == x_min:\n",
    "        return_value = 0\n",
    "    elif x == x_max:\n",
    "        return_value = 100\n",
    "    elif x == x_mean:\n",
    "        return_value = 50\n",
    "    elif x < x_mean:\n",
    "        return_value = 25\n",
    "    else:\n",
    "        return_value = 75       \n",
    "    return return_value\n",
    "\n",
    "\n",
    "vfunc = np.vectorize(q16)\n",
    "\n",
    "f = vfunc(d, d_max, d_min, d_mean)\n",
    "f"
   ]
  },
  {
   "cell_type": "markdown",
   "metadata": {},
   "source": [
    "#### 17. Print *d* and *f*. Do you have your expected *f*?\n",
    "For instance, if your *d* is:\n",
    "```python\n",
    "[[[1.85836099, 1.67064465, 1.62576044, 1.40243961, 1.88454931],\n",
    "[1.75354326, 1.69403643, 1.36729252, 1.61415071, 1.12104981],\n",
    "[1.72201435, 1.1862918 , 1.87078449, 1.7726778 , 1.88180042]],\n",
    "[[1.44747908, 1.31673383, 1.02000951, 1.52218947, 1.97066381],\n",
    "[1.79129243, 1.74983003, 1.96028037, 1.85166831, 1.65450881],\n",
    "[1.18068344, 1.9587381 , 1.00656599, 1.93402165, 1.73514584]]]\n",
    "```\n",
    "Your *f* should be:\n",
    "```python\n",
    "[[[ 75.,  75.,  75.,  25.,  75.],\n",
    "[ 75.,  75.,  25.,  25.,  25.],\n",
    "[ 75.,  25.,  75.,  75.,  75.]],\n",
    "[[ 25.,  25.,  25.,  25., 100.],\n",
    "[ 75.,  75.,  75.,  75.,  75.],\n",
    "[ 25.,  75.,   0.,  75.,  75.]]]\n",
    "```"
   ]
  },
  {
   "cell_type": "code",
   "execution_count": 53,
   "metadata": {},
   "outputs": [
    {
     "name": "stdout",
     "output_type": "stream",
     "text": [
      "[[[1.29288253 1.77786705 1.21958597 1.07366453 1.04270916]\n",
      "  [1.68828857 1.89329992 1.3905541  1.96232776 1.46508809]\n",
      "  [1.78578086 1.14092246 1.25906693 1.42232525 1.66938239]]\n",
      "\n",
      " [[1.64583869 1.42453089 1.21782351 1.52039784 1.13504198]\n",
      "  [1.91378396 1.87615076 1.14180743 1.46988674 1.38645992]\n",
      "  [1.43110526 1.22057872 1.61423703 1.07159521 1.33900524]]]\n",
      "[[[ 25  75  25  25   0]\n",
      "  [ 75  75  25 100  75]\n",
      "  [ 75  25  25  25  75]]\n",
      "\n",
      " [[ 75  25  25  75  25]\n",
      "  [ 75  75  25  75  25]\n",
      "  [ 25  25  75  25  25]]]\n"
     ]
    }
   ],
   "source": [
    "# your code here\n",
    "print(d)\n",
    "print(f)"
   ]
  },
  {
   "cell_type": "markdown",
   "metadata": {},
   "source": [
    "#### 18. Bonus question: instead of using numbers (i.e. 0, 25, 50, 75, and 100), use string values  (\"A\", \"B\", \"C\", \"D\", and \"E\") to label the array elements. For the example above, the expected result is:\n",
    "\n",
    "```python\n",
    "[[[ 'D',  'D',  'D',  'B',  'D'],\n",
    "[ 'D',  'D',  'B',  'B',  'B'],\n",
    "[ 'D',  'B',  'D',  'D',  'D']],\n",
    "[[ 'B',  'B',  'B',  'B',  'E'],\n",
    "[ 'D',  'D',  'D',  'D',  'D'],\n",
    "[ 'B',  'D',   'A',  'D', 'D']]]\n",
    "```\n",
    "**Note**: you don't have to use Numpy in this question."
   ]
  },
  {
   "cell_type": "code",
   "execution_count": 56,
   "metadata": {},
   "outputs": [
    {
     "data": {
      "text/plain": [
       "array([[['A', 'B', 'A', 'A', 'Min'],\n",
       "        ['B', 'B', 'A', 'Max', 'B'],\n",
       "        ['B', 'A', 'A', 'A', 'B']],\n",
       "\n",
       "       [['B', 'A', 'A', 'B', 'A'],\n",
       "        ['B', 'B', 'A', 'B', 'A'],\n",
       "        ['A', 'A', 'B', 'A', 'A']]], dtype='<U3')"
      ]
     },
     "execution_count": 56,
     "metadata": {},
     "output_type": "execute_result"
    }
   ],
   "source": [
    "# your code here\n",
    "def q16b (x, x_max, x_min, x_mean):\n",
    "    return_value = x\n",
    "    if x == x_min:\n",
    "        return_value = \"Min\"\n",
    "    elif x == x_max:\n",
    "        return_value = \"Max\"\n",
    "    elif x == x_mean:\n",
    "        return_value = \"Mean\"\n",
    "    elif x < x_mean:\n",
    "        return_value = \"A\"\n",
    "    else:\n",
    "        return_value = \"B\"     \n",
    "    return return_value\n",
    "\n",
    "\n",
    "vfunc = np.vectorize(q16b)\n",
    "\n",
    "f = vfunc(d, d_max, d_min, d_mean)\n",
    "f"
   ]
  }
 ],
 "metadata": {
  "kernelspec": {
   "display_name": "Python 3 (ipykernel)",
   "language": "python",
   "name": "python3"
  },
  "language_info": {
   "codemirror_mode": {
    "name": "ipython",
    "version": 3
   },
   "file_extension": ".py",
   "mimetype": "text/x-python",
   "name": "python",
   "nbconvert_exporter": "python",
   "pygments_lexer": "ipython3",
   "version": "3.9.6"
  }
 },
 "nbformat": 4,
 "nbformat_minor": 4
}
